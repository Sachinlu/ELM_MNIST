{
  "nbformat": 4,
  "nbformat_minor": 0,
  "metadata": {
    "colab": {
      "name": "ELM.ipynb",
      "provenance": [],
      "collapsed_sections": []
    },
    "kernelspec": {
      "name": "python3",
      "display_name": "Python 3"
    },
    "language_info": {
      "name": "python"
    }
  },
  "cells": [
    {
      "cell_type": "code",
      "metadata": {
        "id": "U4hUdPVPD7YA"
      },
      "source": [
        "# Importing the required file for incremental ELM\n",
        "import numpy as np"
      ],
      "execution_count": 1,
      "outputs": []
    },
    {
      "cell_type": "code",
      "metadata": {
        "id": "MGGca_GFEA9a"
      },
      "source": [
        "# To find out root mean square error of the dataset\n",
        "def r_mean_squared_error(y_actual, y_pred):\n",
        "  return np.sqrt((np.mean((y_actual - y_pred) ** 2)))"
      ],
      "execution_count": 2,
      "outputs": []
    },
    {
      "cell_type": "code",
      "metadata": {
        "id": "BFi2EfVe7sST"
      },
      "source": [
        "# To calculate the accuracy of the dataset.\n",
        "def accuracy_matrix(y_actual, y_pred):\n",
        "  y_actual = np.argmax(y_actual, axis=-1)\n",
        "  y_pred = np.argmax(y_pred, axis=-1)\n",
        "  sum = np.sum(y_actual == y_pred)\n",
        "  accuracy = sum/len(y_actual)\n",
        "  return accuracy"
      ],
      "execution_count": 3,
      "outputs": []
    },
    {
      "cell_type": "code",
      "metadata": {
        "id": "FTf0PJaCJOvq"
      },
      "source": [
        "# The main incremental ELM class\n",
        "class Incremental_ELM:\n",
        "    def __init__(self, input_nodes, hidden_layer, output_nodes,):\n",
        "      self.input_nodes = input_nodes\n",
        "      self.hidden_layer = hidden_layer\n",
        "      self.output_nodes = output_nodes\n",
        "      self.bias = np.zeros(shape=(self.hidden_layer,))\n",
        "      self.weights = np.random.uniform(-1,1,(self.input_nodes,self.hidden_layer))\n",
        "      self.beta = np.random.uniform(-1,1,(hidden_layer,output_nodes))\n",
        "\n",
        "    # The sigmoid activation function\n",
        "    def sigmoid_activation(self, X_input):\n",
        "      return 1. / (1. + np.exp(-X_input))\n",
        "\n",
        "    # The prediction function\n",
        "    def prediction(self, value):\n",
        "          y_value = self.sigmoid_activation(value.dot(self.weights)+self.bias)\n",
        "          return list(y_value.dot(self.beta))\n",
        "          \n",
        "    # The training function\n",
        "    def fit(self, X_input, max_hd, Y_output):\n",
        "      self.weights = np.random.uniform(-1,1,(self.input_nodes,1))\n",
        "      self.beta = np.random.uniform(-1,1,(1,self.output_nodes))\n",
        "\n",
        "      hidden_layer_M = self.sigmoid_activation(X_input.dot(self.weights))\n",
        "      hidden_layer_M_inv = np.linalg.pinv(hidden_layer_M)\n",
        "      self.beta = hidden_layer_M_inv.dot(Y_output)\n",
        "\n",
        "      for i in range(1, max_hd):\n",
        "        h_w = np.random.uniform(-1,1,(self.input_nodes,1))\n",
        "        h_b = np.random.uniform(-1,1,(1, self.output_nodes))\n",
        "        self.weights = np.hstack([self.weights,h_w])\n",
        "        self.beta = np.vstack([self.beta,h_b])\n",
        "\n",
        "        hidden_layer_M = self.sigmoid_activation(X_input.dot(self.weights))\n",
        "        hidden_layer_M_inv = np.linalg.pinv(hidden_layer_M)\n",
        "        self.beta = hidden_layer_M_inv.dot(Y_output)\n",
        "\n",
        "\n",
        "      print('Bias shape:', self.bias.shape)\n",
        "      print('Weights shape:', self.weights.shape)\n",
        "      print('Beta shape:', self.beta.shape)\n"
      ],
      "execution_count": 4,
      "outputs": []
    },
    {
      "cell_type": "code",
      "metadata": {
        "id": "oViyhtKVJrXU"
      },
      "source": [
        "# Loading the dataset and importing libraries\n",
        "from sklearn import datasets\n",
        "from sklearn.model_selection import train_test_split\n",
        "import time\n",
        "from tensorflow.keras.utils import to_categorical\n",
        "from keras.datasets import mnist\n",
        "import matplotlib.pyplot as plt\n"
      ],
      "execution_count": 5,
      "outputs": []
    },
    {
      "cell_type": "code",
      "metadata": {
        "colab": {
          "base_uri": "https://localhost:8080/"
        },
        "id": "_A_Sf2LsIAHt",
        "outputId": "024cf79e-a4e6-418b-a009-fa5d84961fb5"
      },
      "source": [
        "# Defining the attributes\n",
        "n_class = 10\n",
        "max_hidden_node = 1000\n",
        "(X_train,y_train) , (X_test,y_test) = mnist.load_data()"
      ],
      "execution_count": 6,
      "outputs": [
        {
          "output_type": "stream",
          "name": "stdout",
          "text": [
            "Downloading data from https://storage.googleapis.com/tensorflow/tf-keras-datasets/mnist.npz\n",
            "11493376/11490434 [==============================] - 0s 0us/step\n",
            "11501568/11490434 [==============================] - 0s 0us/step\n"
          ]
        }
      ]
    },
    {
      "cell_type": "code",
      "metadata": {
        "id": "8XVoAXgpIVFi"
      },
      "source": [
        "# Data pre-processing and categorising the values.\n",
        "X_train = X_train.astype(np.float32) / 255\n",
        "X_train = X_train.reshape(-1, 28**2)\n",
        "y_train = to_categorical(y_train, n_class).astype(np.float32)\n",
        "X_test = X_test.astype(np.float32) / 255\n",
        "X_test = X_test.reshape(-1, 28**2)\n",
        "y_test = to_categorical(y_test, n_class).astype(np.float32)"
      ],
      "execution_count": 7,
      "outputs": []
    },
    {
      "cell_type": "code",
      "metadata": {
        "id": "Wn9vTcjvIbsU"
      },
      "source": [
        "# creating a ELM class object model\n",
        "model = Incremental_ELM(input_nodes=28**2,hidden_layer=max_hidden_node,output_nodes=n_class)"
      ],
      "execution_count": 8,
      "outputs": []
    },
    {
      "cell_type": "code",
      "metadata": {
        "id": "qp2-a8swIzsC",
        "colab": {
          "base_uri": "https://localhost:8080/"
        },
        "outputId": "a562289d-8fe9-4b7e-a924-45d4830b4364"
      },
      "source": [
        "# Training and calulating the accuracy.\n",
        "initial_train_record = time.time()\n",
        "model.fit(X_train, max_hidden_node, y_train)\n",
        "final_train_record = time.time()\n",
        "train_pred = model.prediction(X_train)\n",
        "train_accuracy = accuracy_matrix(y_train, train_pred)\n",
        "error_train = r_mean_squared_error(y_train, train_pred)"
      ],
      "execution_count": 9,
      "outputs": [
        {
          "output_type": "stream",
          "name": "stdout",
          "text": [
            "Bias shape: (1000,)\n",
            "Weights shape: (784, 1000)\n",
            "Beta shape: (1000, 10)\n"
          ]
        }
      ]
    },
    {
      "cell_type": "code",
      "metadata": {
        "colab": {
          "base_uri": "https://localhost:8080/"
        },
        "id": "EFL5WdfbKwNh",
        "outputId": "1e4921f8-5b19-4806-fb6e-19e0b43a53ef"
      },
      "source": [
        "print(f\"<-----------Training Accuracy, Error and Time----------->\\n\")\n",
        "print(f\"The Training Accuracy of MNIST Dataset: {train_accuracy*100}\")\n",
        "print(f\"Root mean squared Error of MNIST Train Dataset : {error_train}\")\n",
        "print(f\"Train Time of MNIST Dataset : {final_train_record-initial_train_record} seconds\")"
      ],
      "execution_count": 10,
      "outputs": [
        {
          "output_type": "stream",
          "name": "stdout",
          "text": [
            "<-----------Training Accuracy, Error and Time----------->\n",
            "\n",
            "The Training Accuracy of MNIST Dataset: 93.81166666666667\n",
            "Root mean squared Error of MNIST Train Dataset : 0.15199051363452268\n",
            "Train Time of MNIST Dataset : 11137.719383001328 seconds\n"
          ]
        }
      ]
    },
    {
      "cell_type": "code",
      "metadata": {
        "colab": {
          "base_uri": "https://localhost:8080/"
        },
        "id": "NEL695MUK5fX",
        "outputId": "18f254a1-5784-421e-b7d9-9ed34c6baae7"
      },
      "source": [
        "initial_test_record = time.time()\n",
        "test_pred = model.prediction(X_test)\n",
        "final_test_record = time.time()\n",
        "test_accuracy = accuracy_matrix(y_test,test_pred)\n",
        "error_test = r_mean_squared_error(y_test,test_pred)\n",
        "\n",
        "print(f\"<-----------Testing Accuracy, Error and Time----------->\\n\")\n",
        "print(f\"The Testing Accuracy of MNIST Classification Dataset: {test_accuracy*100}\")\n",
        "print(f\"Root mean squared Error of MNIST Test Classification Dataset : {error_test}\")\n",
        "print(f\"Test Time of MNIST Classification Dataset : {final_test_record-initial_test_record} seconds\")"
      ],
      "execution_count": 11,
      "outputs": [
        {
          "output_type": "stream",
          "name": "stdout",
          "text": [
            "<-----------Testing Accuracy, Error and Time----------->\n",
            "\n",
            "The Testing Accuracy of MNIST Classification Dataset: 93.76\n",
            "Root mean squared Error of MNIST Test Classification Dataset : 0.15304053459736197\n",
            "Test Time of MNIST Classification Dataset : 0.8296647071838379 seconds\n"
          ]
        }
      ]
    },
    {
      "cell_type": "code",
      "metadata": {
        "colab": {
          "base_uri": "https://localhost:8080/",
          "height": 237
        },
        "id": "EwyF9C4OLX_Z",
        "outputId": "4d1c9739-1949-4abb-cd34-ac0145e5325a"
      },
      "source": [
        "# Plotting the predicted value on particular image.\n",
        "test_data = X_test[np.random.choice(len(X_test), size=5, replace=False)]\n",
        "predictions = model.prediction(test_data)\n",
        "\n",
        "fig, data = plt.subplots(1, 5)\n",
        "fig.set_size_inches(18, 10)\n",
        "for index, image in enumerate(test_data):\n",
        "    image = np.array(image, dtype='float')\n",
        "    pixels = image.reshape((28, 28))\n",
        "    data[index].imshow(pixels, cmap='gray')\n",
        "    data[index].axes.get_yaxis().set_visible(False)\n",
        "    data[index].title.set_text(f'Predicted {np.argmax(predictions[index])}')\n",
        "    \n",
        "    \n",
        "plt.show()\n"
      ],
      "execution_count": 12,
      "outputs": [
        {
          "output_type": "display_data",
          "data": {
            "image/png": "[encoded data removed]",
            "text/plain": [
              "<Figure size 1296x720 with 5 Axes>"
            ]
          },
          "metadata": {
            "needs_background": "light"
          }
        }
      ]
    },
    {
      "cell_type": "code",
      "metadata": {
        "id": "JBOMzyKOs-gs"
      },
      "source": [
        ""
      ],
      "execution_count": null,
      "outputs": []
    }
  ]
}